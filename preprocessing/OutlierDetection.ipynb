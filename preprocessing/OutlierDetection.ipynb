{
  "nbformat": 4,
  "nbformat_minor": 0,
  "metadata": {
    "colab": {
      "provenance": []
    },
    "kernelspec": {
      "name": "python3",
      "display_name": "Python 3"
    },
    "language_info": {
      "name": "python"
    }
  },
  "cells": [
    {
      "cell_type": "code",
      "execution_count": null,
      "metadata": {
        "id": "uBlfBhJe4fL_"
      },
      "outputs": [],
      "source": [
        "#IsolationForest\n",
        "#EllipticEnvelope\n",
        "#LocalOutlierFactor\n",
        "#OneClassSVM\n",
        "\n",
        "from sklearn.ensemble import IsolationForest\n",
        "from sklearn.covariance import EllipticEnvelope\n",
        "from sklearn.neighbors import LocalOutlierFactor\n",
        "from sklearn.svm import OneClassSVM\n",
        "\n",
        "\n",
        "def dropoutlier(df_X, df_Y, method='IsolationForest'):\n",
        "\n",
        "    if(method=='IsolationForest'):\n",
        "        #Isolation Forest\n",
        "\n",
        "        # identify outliers in the training dataset\n",
        "        iso = IsolationForest(contamination=0.01)\n",
        "        yhat = iso.fit_predict(df_X)\n",
        "\n",
        "    if(method=='MinimumCovarianceDeterminant'):\n",
        "        #Minimum Covariance Determinant\n",
        "\n",
        "        # identify outliers in the training dataset\n",
        "        ee = EllipticEnvelope(contamination=0.01)\n",
        "        yhat = ee.fit_predict(df_X)\n",
        "\n",
        "    if(method=='LocalOutlierFactor'):\n",
        "        #Local Outlier Factor\n",
        "\n",
        "        # identify outliers in the training dataset\n",
        "        lof = LocalOutlierFactor()\n",
        "        yhat = lof.fit_predict(df_X)\n",
        "\n",
        "    if(method=='OneClassSVM'):\n",
        "        #One-Class SVM\n",
        "\n",
        "        # identify outliers in the training dataset\n",
        "        ee = OneClassSVM(nu=0.001)\n",
        "        yhat = ee.fit_predict(df_X)\n",
        "\n",
        "    # select all rows that are not outliers\n",
        "    mask = yhat != -1\n",
        "    df_X_drop, df_Y_drop = df_X[mask], df_Y[mask]\n",
        "\n",
        "    # select all rows that are outliers\n",
        "    masko = yhat == -1\n",
        "    df_X_o, df_Y_o = df_X[masko], df_Y[masko]\n",
        "    \n",
        "    return df_X, df_Y, [df_X_o, df_Y_o]\n",
        "\n",
        "#Drop outliers\n",
        "X_Train, Y_Train, df_o = dropoutlier(x_train, y_train)\n",
        "\n",
        "# summarize the shape of the updated training dataset\n",
        "print('Total: ', X_Train.shape)\n",
        "print('Not Outliers: ', x_train.shape)\n",
        "print('Outliers: ', df_o[0].shape)"
      ]
    },
    {
      "cell_type": "markdown",
      "source": [
        "#refrence of this code\n",
        "\n",
        "https://www.kaggle.com/code/felipefiorini/house-prices-cnn/notebook"
      ],
      "metadata": {
        "id": "3GFaqK6L5VEy"
      }
    }
  ]
}