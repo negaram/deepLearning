{
  "nbformat": 4,
  "nbformat_minor": 0,
  "metadata": {
    "colab": {
      "provenance": []
    },
    "kernelspec": {
      "name": "python3",
      "display_name": "Python 3"
    },
    "language_info": {
      "name": "python"
    }
  },
  "cells": [
    {
      "cell_type": "code",
      "execution_count": null,
      "metadata": {
        "id": "STBisjK27D_0"
      },
      "outputs": [],
      "source": [
        "#train_validation_test\n",
        "\n",
        "X_train, X_test, y_train, y_test = split(X, y, test_size=(0.20), random_state=0)\n",
        "x_Train, X_val, y_Train, y_val = train_test_split(X_train, y_train, \n",
        "    test_size=0.25, random_state= 8)"
      ]
    }
  ]
}