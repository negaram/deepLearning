{
  "nbformat": 4,
  "nbformat_minor": 0,
  "metadata": {
    "colab": {
      "provenance": []
    },
    "kernelspec": {
      "name": "python3",
      "display_name": "Python 3"
    },
    "language_info": {
      "name": "python"
    }
  },
  "cells": [
    {
      "cell_type": "code",
      "execution_count": 1,
      "metadata": {
        "id": "EYV_Pw7XcmQ6"
      },
      "outputs": [],
      "source": [
        "#different ways of scaling"
      ]
    },
    {
      "cell_type": "code",
      "source": [
        "#QuantileTransformer\n",
        "\n",
        "from sklearn.preprocessing import QuantileTransformer\n",
        "scaler = QuantileTransformer(output_distribution='normal', random_state=0)\n",
        "x_train = scaler.fit_transform(X_train)\n",
        "x_test= scaler.transform(X_test)"
      ],
      "metadata": {
        "id": "qCFmhlf7hGZk"
      },
      "execution_count": null,
      "outputs": []
    },
    {
      "cell_type": "code",
      "source": [
        "#QuantileTransformer\n",
        "\n",
        "\n",
        "from sklearn.preprocessing import QuantileTransformer\n",
        "scaler = QuantileTransformer(output_distribution='uniform', random_state=0)\n",
        "x_train = scaler.fit_transform(X_train)\n",
        "x_test= scaler.transform(X_test)"
      ],
      "metadata": {
        "id": "q83M52sFilNk"
      },
      "execution_count": null,
      "outputs": []
    },
    {
      "cell_type": "code",
      "source": [
        "#StandardScaler\n",
        "  \n",
        "from sklearn.preprocessing import StandardScaler\n",
        "scaler = StandardScaler()\n",
        "x_train = scaler.fit_transform(X_train)\n",
        "x_test= scaler.transform(X_test)"
      ],
      "metadata": {
        "id": "G0oRqPoUfX3a"
      },
      "execution_count": null,
      "outputs": []
    },
    {
      "cell_type": "code",
      "source": [
        "#MinMaxScaler\n",
        "\n",
        "from sklearn.preprocessing import MinMaxScaler\n",
        "scaler = MinMaxScaler()\n",
        "x_train = scaler.fit_transform(X_train)\n",
        "x_test= scaler.transform(X_test)"
      ],
      "metadata": {
        "id": "lK_VqXaliy7V"
      },
      "execution_count": null,
      "outputs": []
    },
    {
      "cell_type": "code",
      "source": [
        "#MaxAbsScaler\n",
        "\n",
        "from sklearn.preprocessing import MaxAbsScaler\n",
        "scaler = MaxAbsScaler()\n",
        "x_train = scaler.fit_transform(X_train)\n",
        "x_test= scaler.transform(X_test)"
      ],
      "metadata": {
        "id": "2oWjsAMoi_It"
      },
      "execution_count": null,
      "outputs": []
    },
    {
      "cell_type": "code",
      "source": [
        "#PowerTransformer\n",
        "\n",
        "from sklearn.preprocessing import PowerTransformer\n",
        "scaler = PowerTransformer(method='yeo-johnson')\n",
        "x_train = scaler.fit_transform(X_train)\n",
        "x_test= scaler.transform(X_test)"
      ],
      "metadata": {
        "id": "4DLSMcpgjPMe"
      },
      "execution_count": null,
      "outputs": []
    },
    {
      "cell_type": "code",
      "source": [
        "#Normalizer\n",
        "\n",
        "from sklearn.preprocessing import Normalizer\n",
        "scaler = Normalizer()\n",
        "x_train = scaler.fit_transform(X_train)\n",
        "x_test= scaler.transform(X_test)"
      ],
      "metadata": {
        "id": "bwUmmFLqjyhh"
      },
      "execution_count": null,
      "outputs": []
    }
  ]
}