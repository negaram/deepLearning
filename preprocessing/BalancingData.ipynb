{
  "nbformat": 4,
  "nbformat_minor": 0,
  "metadata": {
    "colab": {
      "provenance": []
    },
    "kernelspec": {
      "name": "python3",
      "display_name": "Python 3"
    },
    "language_info": {
      "name": "python"
    }
  },
  "cells": [
    {
      "cell_type": "code",
      "execution_count": 1,
      "metadata": {
        "id": "8ygY0Qyrv7kM"
      },
      "outputs": [],
      "source": [
        "#Some ways of balancing, imbalance data"
      ]
    },
    {
      "cell_type": "markdown",
      "source": [
        "#**OverSamplingWays**"
      ],
      "metadata": {
        "id": "3-Davfhhwce1"
      }
    },
    {
      "cell_type": "code",
      "source": [
        "#RandomOverSampler\n",
        "\n",
        "\n",
        "from imblearn.over_sampling import RandomOverSampler\n",
        "from collections import Counter\n",
        "\n",
        "counter = Counter(Y_Train)\n",
        "print('Before',counter)\n",
        "ros= RandomOverSampler()\n",
        "\n",
        "\n",
        "X_train_ros, y_train_ros = ros.fit_resample(X_Train, Y_Train)\n",
        "\n",
        "counter = Counter(y_train_ros)\n",
        "print('After',counter"
      ],
      "metadata": {
        "id": "lxSMArm8w9S5"
      },
      "execution_count": null,
      "outputs": []
    },
    {
      "cell_type": "code",
      "source": [
        "#SMOTE\n",
        "\n",
        "from imblearn.over_sampling import SMOTE\n",
        "from collections import Counter\n",
        "\n",
        "counter = Counter(Y_Train)\n",
        "print('Before',counter)\n",
        "\n",
        "\n",
        "smt = SMOTE()\n",
        "X_train_sm, y_train_sm = smt.fit_resample(X_Train, Y_Train)\n",
        "\n",
        "counter = Counter(y_train_sm)\n",
        "print('After',counter)"
      ],
      "metadata": {
        "id": "7liNASP6wkIf"
      },
      "execution_count": null,
      "outputs": []
    },
    {
      "cell_type": "code",
      "source": [
        "#ADASYN\n",
        "\n",
        "from imblearn.over_sampling import ADASYN\n",
        "from collections import Counter\n",
        "counter = Counter(Y_Train)\n",
        "print('Before',counter)\n",
        "\n",
        "\n",
        "ada = ADASYN(random_state=130)\n",
        "X_train_ada, y_train_ada = ada.fit_resample(X_Train, Y_Train)\n",
        "\n",
        "counter = Counter(y_train_ada)\n",
        "print('After',counter)"
      ],
      "metadata": {
        "id": "K5e2MlXdw0Hz"
      },
      "execution_count": null,
      "outputs": []
    },
    {
      "cell_type": "markdown",
      "source": [
        "# **UnderSampling**"
      ],
      "metadata": {
        "id": "sj3Ql2HPyR10"
      }
    },
    {
      "cell_type": "code",
      "source": [
        "#RandomUnderSampler\n",
        "from imblearn.under_sampling import RandomUnderSampler\n",
        "from collections import Counter\n",
        "\n",
        "counter = Counter(Y_Train)\n",
        "print('Before',counter)\n",
        "\n",
        "\n",
        "rus = RandomUnderSampler()\n",
        "X_train_rus, y_train_rus = rus.fit_resample(X_Train, Y_Train)\n",
        "\n",
        "counter = Counter(y_train_rus)\n",
        "print('After',counter)"
      ],
      "metadata": {
        "id": "LAjpVXmsyd2b"
      },
      "execution_count": null,
      "outputs": []
    },
    {
      "cell_type": "code",
      "source": [
        "#TomekLinks\n",
        "from imblearn.under_sampling import TomekLinks\n",
        "from collections import Counter\n",
        "\n",
        "counter = Counter(Y_Train)\n",
        "print('Before',counter)\n",
        "\n",
        "\n",
        "tl= TomekLinks()\n",
        "X_train_tl, y_train_tl = tl.fit_resample(X_Train, Y_Train)\n",
        "\n",
        "counter = Counter(y_train_tl)\n",
        "print('After',counter)"
      ],
      "metadata": {
        "id": "TeXRW24az6GZ"
      },
      "execution_count": null,
      "outputs": []
    },
    {
      "cell_type": "code",
      "source": [
        "#EditedNearestNeighbours\n",
        "from imblearn.under_sampling import EditedNearestNeighbours\n",
        "from collections import Counter\n",
        "\n",
        "counter = Counter(Y_Train)\n",
        "print('Before',counter)\n",
        "\n",
        "enn = EditedNearestNeighbours()\n",
        "X_train_enn, y_train_enn = enn.fit_resample(X_Train, Y_Train)\n",
        "\n",
        "counter = Counter(y_train_enn)\n",
        "print('After',counter)"
      ],
      "metadata": {
        "id": "AjhXq5Xdy1Ts"
      },
      "execution_count": null,
      "outputs": []
    },
    {
      "cell_type": "code",
      "source": [
        "#CondensedNearestNeighbour\n",
        "from imblearn.under_sampling import CondensedNearestNeighbour\n",
        "from collections import Counter\n",
        "\n",
        "counter = Counter(Y_Train)\n",
        "print('Before',counter)\n",
        "\n",
        "\n",
        "cnn= CondensedNearestNeighbour()\n",
        "X_train_cnn, y_train_cnn = cnn.fit_resample(X_Train, Y_Train)\n",
        "\n",
        "counter = Counter(y_train_cnn)\n",
        "print('After',counter)"
      ],
      "metadata": {
        "id": "9R-rrRHrznK2"
      },
      "execution_count": null,
      "outputs": []
    },
    {
      "cell_type": "code",
      "source": [
        "#OneSidedSelection\n",
        "from imblearn.under_sampling import OneSidedSelection\n",
        "from collections import Counter\n",
        "\n",
        "counter = Counter(Y_Train)\n",
        "print('Before',counter)\n",
        "\n",
        "oss= OneSidedSelection()\n",
        "X_train_oss, y_train_oss = oss.fit_resample(X_Train, Y_Train)\n",
        "\n",
        "counter = Counter(y_train_oss)\n",
        "print('After',counter)"
      ],
      "metadata": {
        "id": "G2sFFboPzvtn"
      },
      "execution_count": null,
      "outputs": []
    },
    {
      "cell_type": "code",
      "source": [
        "#NeighbourhoodCleaningRule\n",
        "from imblearn.under_sampling import NeighbourhoodCleaningRule\n",
        "from collections import Counter\n",
        "\n",
        "counter = Counter(Y_Train)\n",
        "print('Before',counter)\n",
        "\n",
        "ncr= NeighbourhoodCleaningRule()\n",
        "X_train_ncr, y_train_ncr = ncr.fit_resample(X_Train, Y_Train)\n",
        "\n",
        "counter = Counter(y_train_ncr)\n",
        "print('After',counter)"
      ],
      "metadata": {
        "id": "TYLAOe-cz0ed"
      },
      "execution_count": null,
      "outputs": []
    },
    {
      "cell_type": "code",
      "source": [
        "#ClusterCentroids\n",
        "from imblearn.under_sampling import ClusterCentroids\n",
        "from collections import Counter\n",
        "\n",
        "counter = Counter(Y_Train)\n",
        "print('Before',counter)\n",
        "# oversampling the train dataset using enn\n",
        "cc= ClusterCentroids()\n",
        "X_train_cc, y_train_cc = cc.fit_resample(X_Train, Y_Train)\n",
        "\n",
        "counter = Counter(y_train_cc)\n",
        "print('After',counter)"
      ],
      "metadata": {
        "id": "_1ncTTvv0DbX"
      },
      "execution_count": null,
      "outputs": []
    },
    {
      "cell_type": "code",
      "source": [
        "#InstanceHardnessThreshold\n",
        "\n",
        "from imblearn.under_sampling import InstanceHardnessThreshold\n",
        "from collections import Counter\n",
        "\n",
        "counter = Counter(Y_Train)\n",
        "print('Before',counter)\n",
        "\n",
        "iht= InstanceHardnessThreshold()\n",
        "X_train_iht, y_train_iht = iht.fit_resample(X_Train, Y_Train)\n",
        "\n",
        "counter = Counter(y_train_iht)\n",
        "print('After',counter)"
      ],
      "metadata": {
        "id": "0gHvCpPh0LUl"
      },
      "execution_count": null,
      "outputs": []
    },
    {
      "cell_type": "code",
      "source": [
        "#NearMiss\n",
        "\n",
        "from imblearn.under_sampling import NearMiss\n",
        "from collections import Counter\n",
        "\n",
        "counter = Counter(Y_Train)\n",
        "print('Before',counter)\n",
        "\n",
        "nm= NearMiss()\n",
        "X_train_nm, y_train_nm = nm.fit_resample(X_Train, Y_Train)\n",
        "\n",
        "counter = Counter(y_train_nm)\n",
        "print('After',counter)"
      ],
      "metadata": {
        "id": "6f14P0Za0PdS"
      },
      "execution_count": null,
      "outputs": []
    },
    {
      "cell_type": "markdown",
      "source": [
        "# **Combine**"
      ],
      "metadata": {
        "id": "9-rdLMhq05fv"
      }
    },
    {
      "cell_type": "code",
      "source": [
        "#SMOTEENN\n",
        "\n",
        "from imblearn.combine import SMOTEENN\n",
        "from collections import Counter\n",
        "\n",
        "counter = Counter(Y_Train)\n",
        "print('Before',counter)\n",
        "# oversampling the train dataset using SMOTE + ENN\n",
        "smenn = SMOTEENN()\n",
        "X_train_smenn, y_train_smenn = smenn.fit_resample(X_Train, Y_Train)\n",
        "\n",
        "counter = Counter(y_train_smenn)\n",
        "print('After',counter"
      ],
      "metadata": {
        "id": "NojOF43o2NN0"
      },
      "execution_count": null,
      "outputs": []
    },
    {
      "cell_type": "code",
      "source": [
        "#SMOTETomek\n",
        "from imblearn.combine import SMOTETomek\n",
        "from collections import Counter\n",
        "\n",
        "counter = Counter(Y_Train)\n",
        "print('Before',counter)\n",
        "# oversampling the train dataset using SMOTE + Tomek\n",
        "smtom = SMOTETomek(random_state=139)\n",
        "X_train_smtom, y_train_smtom = smtom.fit_resample(X_Train, Y_Train)\n",
        "\n",
        "counter = Counter(y_train_smtom)\n",
        "print('After',counter)"
      ],
      "metadata": {
        "id": "zPOCcHjQ2YDq"
      },
      "execution_count": null,
      "outputs": []
    }
  ]
}