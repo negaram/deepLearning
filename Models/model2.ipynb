{
  "nbformat": 4,
  "nbformat_minor": 0,
  "metadata": {
    "colab": {
      "provenance": []
    },
    "kernelspec": {
      "name": "python3",
      "display_name": "Python 3"
    },
    "language_info": {
      "name": "python"
    }
  },
  "cells": [
    {
      "cell_type": "code",
      "execution_count": null,
      "metadata": {
        "id": "aJDAfbyw9Xd2"
      },
      "outputs": [],
      "source": [
        "model = Sequential()\n",
        "model.add(Conv1D(16, (3), activation='relu', input_shape=(894, 1)))\n",
        "model.add(MaxPooling1D(2))\n",
        "model.add(Dropout(0.3))\n",
        "model.add(BatchNormalization())\n",
        "model.add (Conv1D(16, (3), activation='relu'))\n",
        "model.add ( MaxPooling1D(2))\n",
        "model.add(Dropout(0.3))\n",
        "model.add(BatchNormalization())\n",
        "model.add (Flatten())\n",
        "model.add (Dense(512, activation='relu'))\n",
        "model.add (Dense(256, activation='relu'))\n",
        "model.add (Dense(128, activation='relu'))\n",
        "model.add (Dense(nb_classes, activation='softmax'))"
      ]
    }
  ]
}