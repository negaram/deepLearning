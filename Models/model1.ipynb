{
  "nbformat": 4,
  "nbformat_minor": 0,
  "metadata": {
    "colab": {
      "provenance": []
    },
    "kernelspec": {
      "name": "python3",
      "display_name": "Python 3"
    },
    "language_info": {
      "name": "python"
    }
  },
  "cells": [
    {
      "cell_type": "code",
      "execution_count": null,
      "metadata": {
        "id": "I39INjzX8WL3"
      },
      "outputs": [],
      "source": [
        "model = Sequential()\n",
        "model.add(Conv1D(32, kernel_size=(3),activation='relu',padding='same',input_shape=(894,1)))\n",
        "model.add(BatchNormalization())\n",
        "model.add(MaxPooling1D(pool_size=(2),padding='same'))\n",
        "model.add(Dropout(0.3))\n",
        "model.add(Conv1D(32, (3), activation='relu',padding='same'))\n",
        "model.add(BatchNormalization())\n",
        "model.add(Dropout(0.3))\n",
        "model.add(MaxPooling1D(pool_size=(2),padding='same'))\n",
        "model.add(Conv1D(64, (3), activation='relu',padding='same'))\n",
        "model.add(Conv1D(64, (3), activation='relu',padding='same'))\n",
        "model.add(BatchNormalization())\n",
        "model.add(Dropout(0.3))\n",
        "model.add(MaxPooling1D(pool_size=(2),padding='same'))\n",
        "model.add(Conv1D(128, (3), activation='relu',padding='same')) #~~~~~~~~~~~   512\n",
        "model.add(Conv1D(256, (3), activation='relu',padding='same')) #~~~~~~~~~~~   512\n",
        "model.add(Conv1D(512, (3), activation='relu',padding='same')) #~~~~~~~~~~~   512\n",
        "model.add(BatchNormalization())\n",
        "model.add(Dropout(0.3))\n",
        "model.add(MaxPooling1D(pool_size=(2),padding='same'))\n",
        "model.add(Flatten())\n",
        "model.add(Dense(nb_classes, activation='softmax'))"
      ]
    }
  ]
}