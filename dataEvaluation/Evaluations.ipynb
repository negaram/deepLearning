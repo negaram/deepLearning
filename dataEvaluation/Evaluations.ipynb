{
  "nbformat": 4,
  "nbformat_minor": 0,
  "metadata": {
    "colab": {
      "provenance": []
    },
    "kernelspec": {
      "name": "python3",
      "display_name": "Python 3"
    },
    "language_info": {
      "name": "python"
    }
  },
  "cells": [
    {
      "cell_type": "code",
      "execution_count": null,
      "metadata": {
        "id": "vR3D2PeBA5Ak"
      },
      "outputs": [],
      "source": [
        "time2=time.time()\n",
        "predict_prob=fashion_model.predict(x_test)\n",
        "y_pred=np.argmax(predict_prob,axis=1)\n",
        "print ('classification time:', time.time()-time2)\n",
        "\n",
        "##print (y_pred)\n",
        "y_true=np.argmax(Y_test, axis=1)\n",
        "from sklearn.metrics import precision_recall_fscore_support as score, precision_score, recall_score, f1_score\n",
        "from sklearn.metrics import classification_report, confusion_matrix\n",
        "CM = confusion_matrix(y_true, y_pred)\n",
        "print (CM)\n",
        "print(classification_report(y_true, y_pred))\n",
        "\n",
        "precision = precision_score(y_test, y_pred, average='weighted')\n",
        "print('Precision: %f' % precision)\n",
        "# recall: tp / (tp + fn)\n",
        "recall = recall_score(y_test, y_pred, average='weighted')\n",
        "print('Recall: %f' % recall)\n",
        "# f1: tp / (tp + fp + fn)\n",
        "f1 = f1_score(y_test, y_pred, average='weighted')\n",
        "print('F1 score: %f' % f1)\n",
        "#-----------  IoU\n",
        "from sklearn.metrics import jaccard_score\n",
        "print ('IoU:', jaccard_score(y_true, y_pred, average='micro'))\n",
        "\n",
        "\n",
        "test_eval = fashion_model.evaluate(x_test, Y_test)\n",
        "\n",
        "loss, accuracy = fashion_model.evaluate(x_Train,Y_train)\n",
        "print('loss_train: ', loss, 'accuracy_train: ', accuracy)\n",
        "print('Test loss:', test_eval[0], 'Test accuracy:', test_eval[1])\n",
        "\n",
        "TN = CM[0][0]\n",
        "FN = CM[1][0]\n",
        "TP = CM[1][1]\n",
        "FP = CM[0][1]\n",
        "#================ classification metrics\n",
        "# Sensitivity, hit rate, recall, or true positive rate\n",
        "TPR = TP/(TP+FN)\n",
        "print ('TPR',TPR)   \n",
        "# Specificity or true negative rate\n",
        "TNR = TN/(TN+FP) \n",
        "print('TNR',TNR)\n",
        "# Precision or positive predictive value\n",
        "PPV = TP/(TP+FN)\n",
        "print ('PPV', PPV)\n",
        "# Negative predictive value\n",
        "NPV = TN/(TN+FN)\n",
        "print('NPV', NPV)\n",
        "# Fall out or false positive rate\n",
        "FPR = FP/(FP+TN)\n",
        "print('FPR',FPR)\n",
        "# False negative rate\n",
        "FNR = FN/(TP+FN)\n",
        "print ('FNR',FNR)  \n",
        "# False discovery rate\n",
        "FDR = FP/(TP+FP)\n",
        "print ('FDR',FDR)    \n",
        "# Overall accuracy   \n",
        "ACC = (TP+TN)/(TP+FP+FN+TN)\n",
        "print ('ACC',ACC)"
      ]
    },
    {
      "cell_type": "markdown",
      "source": [
        "reference code\n",
        "\n",
        "https://github.com/MosabHamdan12/nomaly-based-Intrusion-Detection-Technique-for-IoT-Enabled-Smart-Cities/blob/main/cnn_16_features_data_2.ipynb\n",
        "\n"
      ],
      "metadata": {
        "id": "1Jr1XcocBWLe"
      }
    }
  ]
}